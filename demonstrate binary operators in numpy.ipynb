{
  "nbformat": 4,
  "nbformat_minor": 0,
  "metadata": {
    "colab": {
      "provenance": [],
      "authorship_tag": "ABX9TyNyON2YavFFLADSx/J+ME7H",
      "include_colab_link": true
    },
    "kernelspec": {
      "name": "python3",
      "display_name": "Python 3"
    },
    "language_info": {
      "name": "python"
    }
  },
  "cells": [
    {
      "cell_type": "markdown",
      "metadata": {
        "id": "view-in-github",
        "colab_type": "text"
      },
      "source": [
        "<a href=\"https://colab.research.google.com/github/akshadasanap7/my-repo/blob/collab-python/demonstrate%20binary%20operators%20in%20numpy.ipynb\" target=\"_parent\"><img src=\"https://colab.research.google.com/assets/colab-badge.svg\" alt=\"Open In Colab\"/></a>"
      ]
    },
    {
      "cell_type": "code",
      "execution_count": 10,
      "metadata": {
        "colab": {
          "base_uri": "https://localhost:8080/"
        },
        "id": "WM9-YLWJ1A9R",
        "outputId": "fe71a9c1-54d0-4f6f-b511-782d2db8ba19"
      },
      "outputs": [
        {
          "output_type": "stream",
          "name": "stdout",
          "text": [
            "Largest element is: 9\n",
            "Row-wise maximum elemnts : [6 7 9]\n",
            "Column-wise minimum elemts: [1 1 2]\n",
            "Sum of all array elemts: 38\n"
          ]
        }
      ],
      "source": [
        "import numpy as np\n",
        "arr = np.array ([[1, 5, 6],[4, 7, 2],[3, 1,9]])\n",
        "print (\"Largest element is:\", arr. max ())\n",
        "print (\"Row-wise maximum elemnts :\", arr.max (axis = 1))\n",
        "print (\"Column-wise minimum elemts:\", arr.min (axis = 0))\n",
        "print (\"Sum of all array elemts:\", arr.sum ())"
      ]
    },
    {
      "cell_type": "code",
      "source": [
        "import numpy as np\n",
        "x = np.array ( [1, 2,3])\n",
        "y = np.array ([4, 5, 6])\n",
        "print (\"addition:\", x+y)\n",
        "print (\"substarction:\", x-y)\n",
        "print (\"multiplication:\", x*y)\n",
        "print (\"division:\", x/y)"
      ],
      "metadata": {
        "colab": {
          "base_uri": "https://localhost:8080/"
        },
        "id": "FyepCfEv6QcY",
        "outputId": "f4e78e71-a0cd-4f73-9cd9-468acc05ee16"
      },
      "execution_count": 11,
      "outputs": [
        {
          "output_type": "stream",
          "name": "stdout",
          "text": [
            "addition: [5 7 9]\n",
            "substarction: [-3 -3 -3]\n",
            "multiplication: [ 4 10 18]\n",
            "division: [0.25 0.4  0.5 ]\n"
          ]
        }
      ]
    }
  ]
}