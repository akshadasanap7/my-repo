{
  "nbformat": 4,
  "nbformat_minor": 0,
  "metadata": {
    "colab": {
      "provenance": [],
      "authorship_tag": "ABX9TyOw/pFhDUdGOG5+lN2rupVt",
      "include_colab_link": true
    },
    "kernelspec": {
      "name": "python3",
      "display_name": "Python 3"
    },
    "language_info": {
      "name": "python"
    }
  },
  "cells": [
    {
      "cell_type": "markdown",
      "metadata": {
        "id": "view-in-github",
        "colab_type": "text"
      },
      "source": [
        "<a href=\"https://colab.research.google.com/github/akshadasanap7/my-repo/blob/main/Untitled1.ipynb\" target=\"_parent\"><img src=\"https://colab.research.google.com/assets/colab-badge.svg\" alt=\"Open In Colab\"/></a>"
      ]
    },
    {
      "cell_type": "code",
      "execution_count": null,
      "metadata": {
        "colab": {
          "base_uri": "https://localhost:8080/"
        },
        "id": "zAdL22f8sZUt",
        "outputId": "8e1f1839-e6f9-4e88-8933-5c7f21e46eda"
      },
      "outputs": [
        {
          "output_type": "stream",
          "name": "stdout",
          "text": [
            "array is of type: <class 'numpy.ndarray'>\n",
            "no.of dimensions: 2\n",
            "shape of array: (2, 3)\n",
            "size of array: 6\n",
            "array stores elemnts of type : int64\n"
          ]
        }
      ],
      "source": [
        "import numpy as np\n",
        "arr = np.array ( [[ 1, 2, 3], [ 4, 2,5]] )\n",
        "arr1=np.array ( [[0,9,8,7,],[6,5,4,3]])\n",
        "print(\"array is of type:\",type(arr))\n",
        "print(\"no.of dimensions:\",arr.ndim)\n",
        "print(\"shape of array:\",arr.shape)\n",
        "print(\"size of array:\",arr.size)\n",
        "print(\"array stores elemnts of type :\",arr.dtype)"
      ]
    }
  ]
}